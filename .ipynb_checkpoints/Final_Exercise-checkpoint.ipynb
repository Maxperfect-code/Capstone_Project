{
 "cells": [
  {
   "cell_type": "code",
   "execution_count": 1,
   "metadata": {},
   "outputs": [
    {
     "name": "stdout",
     "output_type": "stream",
     "text": [
      "Hello\n"
     ]
    }
   ],
   "source": [
    "print('Hello')"
   ]
  },
  {
   "cell_type": "code",
   "execution_count": 2,
   "metadata": {},
   "outputs": [],
   "source": [
    "import numpy as np\n",
    "import pandas as pd\n",
    "\n",
    "from bs4 import BeautifulSoup\n",
    "import requests"
   ]
  },
  {
   "cell_type": "markdown",
   "metadata": {},
   "source": [
    "Import Data from Wikipedia"
   ]
  },
  {
   "cell_type": "code",
   "execution_count": 3,
   "metadata": {},
   "outputs": [
    {
     "data": {
      "text/html": [
       "<div>\n",
       "<style scoped>\n",
       "    .dataframe tbody tr th:only-of-type {\n",
       "        vertical-align: middle;\n",
       "    }\n",
       "\n",
       "    .dataframe tbody tr th {\n",
       "        vertical-align: top;\n",
       "    }\n",
       "\n",
       "    .dataframe thead th {\n",
       "        text-align: right;\n",
       "    }\n",
       "</style>\n",
       "<table border=\"1\" class=\"dataframe\">\n",
       "  <thead>\n",
       "    <tr style=\"text-align: right;\">\n",
       "      <th></th>\n",
       "      <th>0</th>\n",
       "      <th>1</th>\n",
       "      <th>2</th>\n",
       "      <th>3</th>\n",
       "      <th>4</th>\n",
       "      <th>5</th>\n",
       "      <th>6</th>\n",
       "      <th>7</th>\n",
       "      <th>8</th>\n",
       "    </tr>\n",
       "  </thead>\n",
       "  <tbody>\n",
       "    <tr>\n",
       "      <th>0</th>\n",
       "      <td>M1ANot assigned</td>\n",
       "      <td>M2ANot assigned</td>\n",
       "      <td>M3ANorth York(Parkwoods)</td>\n",
       "      <td>M4ANorth York(Victoria Village)</td>\n",
       "      <td>M5ADowntown Toronto(Regent Park / Harbourfront)</td>\n",
       "      <td>M6ANorth York(Lawrence Manor / Lawrence Heights)</td>\n",
       "      <td>M7AQueen's Park(Ontario Provincial Government)</td>\n",
       "      <td>M8ANot assigned</td>\n",
       "      <td>M9AEtobicoke(Islington Avenue)</td>\n",
       "    </tr>\n",
       "    <tr>\n",
       "      <th>1</th>\n",
       "      <td>M1BScarborough(Malvern / Rouge)</td>\n",
       "      <td>M2BNot assigned</td>\n",
       "      <td>M3BNorth York(Don Mills)North</td>\n",
       "      <td>M4BEast York(Parkview Hill / Woodbine Gardens)</td>\n",
       "      <td>M5BDowntown Toronto(Garden District, Ryerson)</td>\n",
       "      <td>M6BNorth York(Glencairn)</td>\n",
       "      <td>M7BNot assigned</td>\n",
       "      <td>M8BNot assigned</td>\n",
       "      <td>M9BEtobicoke(West Deane Park / Princess Garden...</td>\n",
       "    </tr>\n",
       "    <tr>\n",
       "      <th>2</th>\n",
       "      <td>M1CScarborough(Rouge Hill / Port Union / Highl...</td>\n",
       "      <td>M2CNot assigned</td>\n",
       "      <td>M3CNorth York(Don Mills)South(Flemingdon Park)</td>\n",
       "      <td>M4CEast York(Woodbine Heights)</td>\n",
       "      <td>M5CDowntown Toronto(St. James Town)</td>\n",
       "      <td>M6CYork(Humewood-Cedarvale)</td>\n",
       "      <td>M7CNot assigned</td>\n",
       "      <td>M8CNot assigned</td>\n",
       "      <td>M9CEtobicoke(Eringate / Bloordale Gardens / Ol...</td>\n",
       "    </tr>\n",
       "    <tr>\n",
       "      <th>3</th>\n",
       "      <td>M1EScarborough(Guildwood / Morningside / West ...</td>\n",
       "      <td>M2ENot assigned</td>\n",
       "      <td>M3ENot assigned</td>\n",
       "      <td>M4EEast Toronto(The Beaches)</td>\n",
       "      <td>M5EDowntown Toronto(Berczy Park)</td>\n",
       "      <td>M6EYork(Caledonia-Fairbanks)</td>\n",
       "      <td>M7ENot assigned</td>\n",
       "      <td>M8ENot assigned</td>\n",
       "      <td>M9ENot assigned</td>\n",
       "    </tr>\n",
       "    <tr>\n",
       "      <th>4</th>\n",
       "      <td>M1GScarborough(Woburn)</td>\n",
       "      <td>M2GNot assigned</td>\n",
       "      <td>M3GNot assigned</td>\n",
       "      <td>M4GEast York(Leaside)</td>\n",
       "      <td>M5GDowntown Toronto(Central Bay Street)</td>\n",
       "      <td>M6GDowntown Toronto(Christie)</td>\n",
       "      <td>M7GNot assigned</td>\n",
       "      <td>M8GNot assigned</td>\n",
       "      <td>M9GNot assigned</td>\n",
       "    </tr>\n",
       "  </tbody>\n",
       "</table>\n",
       "</div>"
      ],
      "text/plain": [
       "                                                   0                1  \\\n",
       "0                                    M1ANot assigned  M2ANot assigned   \n",
       "1                    M1BScarborough(Malvern / Rouge)  M2BNot assigned   \n",
       "2  M1CScarborough(Rouge Hill / Port Union / Highl...  M2CNot assigned   \n",
       "3  M1EScarborough(Guildwood / Morningside / West ...  M2ENot assigned   \n",
       "4                             M1GScarborough(Woburn)  M2GNot assigned   \n",
       "\n",
       "                                                2  \\\n",
       "0                        M3ANorth York(Parkwoods)   \n",
       "1                   M3BNorth York(Don Mills)North   \n",
       "2  M3CNorth York(Don Mills)South(Flemingdon Park)   \n",
       "3                                 M3ENot assigned   \n",
       "4                                 M3GNot assigned   \n",
       "\n",
       "                                                3  \\\n",
       "0                 M4ANorth York(Victoria Village)   \n",
       "1  M4BEast York(Parkview Hill / Woodbine Gardens)   \n",
       "2                  M4CEast York(Woodbine Heights)   \n",
       "3                    M4EEast Toronto(The Beaches)   \n",
       "4                           M4GEast York(Leaside)   \n",
       "\n",
       "                                                 4  \\\n",
       "0  M5ADowntown Toronto(Regent Park / Harbourfront)   \n",
       "1    M5BDowntown Toronto(Garden District, Ryerson)   \n",
       "2              M5CDowntown Toronto(St. James Town)   \n",
       "3                 M5EDowntown Toronto(Berczy Park)   \n",
       "4          M5GDowntown Toronto(Central Bay Street)   \n",
       "\n",
       "                                                  5  \\\n",
       "0  M6ANorth York(Lawrence Manor / Lawrence Heights)   \n",
       "1                          M6BNorth York(Glencairn)   \n",
       "2                       M6CYork(Humewood-Cedarvale)   \n",
       "3                      M6EYork(Caledonia-Fairbanks)   \n",
       "4                     M6GDowntown Toronto(Christie)   \n",
       "\n",
       "                                                6                7  \\\n",
       "0  M7AQueen's Park(Ontario Provincial Government)  M8ANot assigned   \n",
       "1                                 M7BNot assigned  M8BNot assigned   \n",
       "2                                 M7CNot assigned  M8CNot assigned   \n",
       "3                                 M7ENot assigned  M8ENot assigned   \n",
       "4                                 M7GNot assigned  M8GNot assigned   \n",
       "\n",
       "                                                   8  \n",
       "0                     M9AEtobicoke(Islington Avenue)  \n",
       "1  M9BEtobicoke(West Deane Park / Princess Garden...  \n",
       "2  M9CEtobicoke(Eringate / Bloordale Gardens / Ol...  \n",
       "3                                    M9ENot assigned  \n",
       "4                                    M9GNot assigned  "
      ]
     },
     "execution_count": 3,
     "metadata": {},
     "output_type": "execute_result"
    }
   ],
   "source": [
    "url='https://en.wikipedia.org/wiki/List_of_postal_codes_of_Canada:_M'\n",
    "Data=requests.get(url).text\n",
    "soup=BeautifulSoup(Data,\"html5lib\")\n",
    "tables=soup.find_all('table')\n",
    "len(tables)\n",
    "Dataframe=pd.read_html(str(tables[0]),flavor='bs4')\n",
    "Toronto=Dataframe[0]\n",
    "Toronto.head()"
   ]
  },
  {
   "cell_type": "markdown",
   "metadata": {},
   "source": [
    "Fix the table and make it usefull for our work"
   ]
  },
  {
   "cell_type": "code",
   "execution_count": 4,
   "metadata": {},
   "outputs": [],
   "source": [
    "T0=pd.DataFrame(Toronto[0])\n",
    "T1=pd.DataFrame(Toronto[1])\n",
    "T2=pd.DataFrame(Toronto[2])\n",
    "T3=pd.DataFrame(Toronto[3])\n",
    "T4=pd.DataFrame(Toronto[4])\n",
    "T5=pd.DataFrame(Toronto[5])\n",
    "T6=pd.DataFrame(Toronto[6])\n",
    "T7=pd.DataFrame(Toronto[7])\n",
    "T8=pd.DataFrame(Toronto[8])\n",
    "T0.rename({0:'Borough'}, axis=1, inplace=True)\n",
    "T1.rename({1:'Borough'}, axis=1, inplace=True)\n",
    "T2.rename({2:'Borough'}, axis=1, inplace=True)\n",
    "T3.rename({3:'Borough'}, axis=1, inplace=True)\n",
    "T4.rename({4:'Borough'}, axis=1, inplace=True)\n",
    "T5.rename({5:'Borough'}, axis=1, inplace=True)\n",
    "T6.rename({6:'Borough'}, axis=1, inplace=True)\n",
    "T7.rename({7:'Borough'}, axis=1, inplace=True)\n",
    "T8.rename({8:'Borough'}, axis=1, inplace=True)\n",
    "Tor=T0.append(T1,ignore_index=True)\n",
    "Tor1=Tor.append(T2,ignore_index=True)\n",
    "Tor2=Tor1.append(T3,ignore_index=True)\n",
    "Tor3=Tor2.append(T4,ignore_index=True)\n",
    "Tor4=Tor3.append(T5,ignore_index=True)\n",
    "Tor5=Tor4.append(T6,ignore_index=True)\n",
    "Tor6=Tor5.append(T7,ignore_index=True)\n",
    "Tor7=Tor6.append(T8,ignore_index=True)"
   ]
  },
  {
   "cell_type": "code",
   "execution_count": 5,
   "metadata": {},
   "outputs": [
    {
     "data": {
      "text/html": [
       "<div>\n",
       "<style scoped>\n",
       "    .dataframe tbody tr th:only-of-type {\n",
       "        vertical-align: middle;\n",
       "    }\n",
       "\n",
       "    .dataframe tbody tr th {\n",
       "        vertical-align: top;\n",
       "    }\n",
       "\n",
       "    .dataframe thead th {\n",
       "        text-align: right;\n",
       "    }\n",
       "</style>\n",
       "<table border=\"1\" class=\"dataframe\">\n",
       "  <thead>\n",
       "    <tr style=\"text-align: right;\">\n",
       "      <th></th>\n",
       "      <th>Borough</th>\n",
       "    </tr>\n",
       "  </thead>\n",
       "  <tbody>\n",
       "    <tr>\n",
       "      <th>0</th>\n",
       "      <td>M1ANot assigned</td>\n",
       "    </tr>\n",
       "    <tr>\n",
       "      <th>1</th>\n",
       "      <td>M1BScarborough(Malvern / Rouge)</td>\n",
       "    </tr>\n",
       "    <tr>\n",
       "      <th>2</th>\n",
       "      <td>M1CScarborough(Rouge Hill / Port Union / Highl...</td>\n",
       "    </tr>\n",
       "    <tr>\n",
       "      <th>3</th>\n",
       "      <td>M1EScarborough(Guildwood / Morningside / West ...</td>\n",
       "    </tr>\n",
       "    <tr>\n",
       "      <th>4</th>\n",
       "      <td>M1GScarborough(Woburn)</td>\n",
       "    </tr>\n",
       "  </tbody>\n",
       "</table>\n",
       "</div>"
      ],
      "text/plain": [
       "                                             Borough\n",
       "0                                    M1ANot assigned\n",
       "1                    M1BScarborough(Malvern / Rouge)\n",
       "2  M1CScarborough(Rouge Hill / Port Union / Highl...\n",
       "3  M1EScarborough(Guildwood / Morningside / West ...\n",
       "4                             M1GScarborough(Woburn)"
      ]
     },
     "execution_count": 5,
     "metadata": {},
     "output_type": "execute_result"
    }
   ],
   "source": [
    "Toronto=Tor7\n",
    "Toronto.head()"
   ]
  },
  {
   "cell_type": "markdown",
   "metadata": {},
   "source": [
    "Divide in 3 columns"
   ]
  },
  {
   "cell_type": "code",
   "execution_count": 6,
   "metadata": {},
   "outputs": [],
   "source": [
    "Toronto['Neighborhood']=Toronto.Borough.str.extract('(\\(.*\\))',expand=True)\n",
    "Toronto['Neighborhood']=Toronto.Neighborhood.str.replace('(','')\n",
    "Toronto['Neighborhood']=Toronto.Neighborhood.str.replace(')','')\n",
    "Toronto['Neighborhood']=Toronto.Neighborhood.str.replace(' \\/',', ')\n",
    "Toronto['Borough']=Toronto.Borough.str.replace('(\\(.*\\))','')"
   ]
  },
  {
   "cell_type": "code",
   "execution_count": 7,
   "metadata": {},
   "outputs": [],
   "source": [
    "Toronto['PostalCode']=Toronto.Borough.str.extract('(\\A...)',expand=True)\n",
    "Toronto['Borough']=Toronto.Borough.str.replace('(\\A...)','')"
   ]
  },
  {
   "cell_type": "code",
   "execution_count": 8,
   "metadata": {},
   "outputs": [
    {
     "data": {
      "text/html": [
       "<div>\n",
       "<style scoped>\n",
       "    .dataframe tbody tr th:only-of-type {\n",
       "        vertical-align: middle;\n",
       "    }\n",
       "\n",
       "    .dataframe tbody tr th {\n",
       "        vertical-align: top;\n",
       "    }\n",
       "\n",
       "    .dataframe thead th {\n",
       "        text-align: right;\n",
       "    }\n",
       "</style>\n",
       "<table border=\"1\" class=\"dataframe\">\n",
       "  <thead>\n",
       "    <tr style=\"text-align: right;\">\n",
       "      <th></th>\n",
       "      <th>Borough</th>\n",
       "      <th>Neighborhood</th>\n",
       "      <th>PostalCode</th>\n",
       "    </tr>\n",
       "  </thead>\n",
       "  <tbody>\n",
       "    <tr>\n",
       "      <th>0</th>\n",
       "      <td>Not assigned</td>\n",
       "      <td>NaN</td>\n",
       "      <td>M1A</td>\n",
       "    </tr>\n",
       "    <tr>\n",
       "      <th>1</th>\n",
       "      <td>Scarborough</td>\n",
       "      <td>Malvern,  Rouge</td>\n",
       "      <td>M1B</td>\n",
       "    </tr>\n",
       "    <tr>\n",
       "      <th>2</th>\n",
       "      <td>Scarborough</td>\n",
       "      <td>Rouge Hill,  Port Union,  Highland Creek</td>\n",
       "      <td>M1C</td>\n",
       "    </tr>\n",
       "    <tr>\n",
       "      <th>3</th>\n",
       "      <td>Scarborough</td>\n",
       "      <td>Guildwood,  Morningside,  West Hill</td>\n",
       "      <td>M1E</td>\n",
       "    </tr>\n",
       "    <tr>\n",
       "      <th>4</th>\n",
       "      <td>Scarborough</td>\n",
       "      <td>Woburn</td>\n",
       "      <td>M1G</td>\n",
       "    </tr>\n",
       "  </tbody>\n",
       "</table>\n",
       "</div>"
      ],
      "text/plain": [
       "        Borough                              Neighborhood PostalCode\n",
       "0  Not assigned                                       NaN        M1A\n",
       "1   Scarborough                           Malvern,  Rouge        M1B\n",
       "2   Scarborough  Rouge Hill,  Port Union,  Highland Creek        M1C\n",
       "3   Scarborough       Guildwood,  Morningside,  West Hill        M1E\n",
       "4   Scarborough                                    Woburn        M1G"
      ]
     },
     "execution_count": 8,
     "metadata": {},
     "output_type": "execute_result"
    }
   ],
   "source": [
    "Toronto.head()"
   ]
  },
  {
   "cell_type": "markdown",
   "metadata": {},
   "source": [
    "Drop the NOT ASSIGNED in the Borough column"
   ]
  },
  {
   "cell_type": "code",
   "execution_count": 9,
   "metadata": {},
   "outputs": [
    {
     "data": {
      "text/html": [
       "<div>\n",
       "<style scoped>\n",
       "    .dataframe tbody tr th:only-of-type {\n",
       "        vertical-align: middle;\n",
       "    }\n",
       "\n",
       "    .dataframe tbody tr th {\n",
       "        vertical-align: top;\n",
       "    }\n",
       "\n",
       "    .dataframe thead th {\n",
       "        text-align: right;\n",
       "    }\n",
       "</style>\n",
       "<table border=\"1\" class=\"dataframe\">\n",
       "  <thead>\n",
       "    <tr style=\"text-align: right;\">\n",
       "      <th></th>\n",
       "      <th>Borough</th>\n",
       "      <th>Neighborhood</th>\n",
       "      <th>PostalCode</th>\n",
       "    </tr>\n",
       "  </thead>\n",
       "  <tbody>\n",
       "    <tr>\n",
       "      <th>1</th>\n",
       "      <td>Scarborough</td>\n",
       "      <td>Malvern,  Rouge</td>\n",
       "      <td>M1B</td>\n",
       "    </tr>\n",
       "    <tr>\n",
       "      <th>2</th>\n",
       "      <td>Scarborough</td>\n",
       "      <td>Rouge Hill,  Port Union,  Highland Creek</td>\n",
       "      <td>M1C</td>\n",
       "    </tr>\n",
       "    <tr>\n",
       "      <th>3</th>\n",
       "      <td>Scarborough</td>\n",
       "      <td>Guildwood,  Morningside,  West Hill</td>\n",
       "      <td>M1E</td>\n",
       "    </tr>\n",
       "    <tr>\n",
       "      <th>4</th>\n",
       "      <td>Scarborough</td>\n",
       "      <td>Woburn</td>\n",
       "      <td>M1G</td>\n",
       "    </tr>\n",
       "    <tr>\n",
       "      <th>5</th>\n",
       "      <td>Scarborough</td>\n",
       "      <td>Cedarbrae</td>\n",
       "      <td>M1H</td>\n",
       "    </tr>\n",
       "  </tbody>\n",
       "</table>\n",
       "</div>"
      ],
      "text/plain": [
       "       Borough                              Neighborhood PostalCode\n",
       "1  Scarborough                           Malvern,  Rouge        M1B\n",
       "2  Scarborough  Rouge Hill,  Port Union,  Highland Creek        M1C\n",
       "3  Scarborough       Guildwood,  Morningside,  West Hill        M1E\n",
       "4  Scarborough                                    Woburn        M1G\n",
       "5  Scarborough                                 Cedarbrae        M1H"
      ]
     },
     "execution_count": 9,
     "metadata": {},
     "output_type": "execute_result"
    }
   ],
   "source": [
    "Toronto.drop(Toronto[Toronto['Borough'] == \"Not assigned\"].index,inplace=True)\n",
    "Toronto.head()"
   ]
  },
  {
   "cell_type": "code",
   "execution_count": 10,
   "metadata": {},
   "outputs": [
    {
     "data": {
      "text/html": [
       "<div>\n",
       "<style scoped>\n",
       "    .dataframe tbody tr th:only-of-type {\n",
       "        vertical-align: middle;\n",
       "    }\n",
       "\n",
       "    .dataframe tbody tr th {\n",
       "        vertical-align: top;\n",
       "    }\n",
       "\n",
       "    .dataframe thead th {\n",
       "        text-align: right;\n",
       "    }\n",
       "</style>\n",
       "<table border=\"1\" class=\"dataframe\">\n",
       "  <thead>\n",
       "    <tr style=\"text-align: right;\">\n",
       "      <th></th>\n",
       "      <th>Borough</th>\n",
       "      <th>Neighborhood</th>\n",
       "      <th>PostalCode</th>\n",
       "    </tr>\n",
       "  </thead>\n",
       "  <tbody>\n",
       "  </tbody>\n",
       "</table>\n",
       "</div>"
      ],
      "text/plain": [
       "Empty DataFrame\n",
       "Columns: [Borough, Neighborhood, PostalCode]\n",
       "Index: []"
      ]
     },
     "execution_count": 10,
     "metadata": {},
     "output_type": "execute_result"
    }
   ],
   "source": [
    "Nei=Toronto.loc[(Toronto.Neighborhood =='Not assigned')]\n",
    "Nei"
   ]
  },
  {
   "cell_type": "code",
   "execution_count": 11,
   "metadata": {},
   "outputs": [
    {
     "data": {
      "text/plain": [
       "(103, 3)"
      ]
     },
     "execution_count": 11,
     "metadata": {},
     "output_type": "execute_result"
    }
   ],
   "source": [
    "Toronto.shape"
   ]
  },
  {
   "cell_type": "code",
   "execution_count": null,
   "metadata": {},
   "outputs": [],
   "source": []
  }
 ],
 "metadata": {
  "kernelspec": {
   "display_name": "Python 3",
   "language": "python",
   "name": "python3"
  },
  "language_info": {
   "codemirror_mode": {
    "name": "ipython",
    "version": 3
   },
   "file_extension": ".py",
   "mimetype": "text/x-python",
   "name": "python",
   "nbconvert_exporter": "python",
   "pygments_lexer": "ipython3",
   "version": "3.8.5"
  }
 },
 "nbformat": 4,
 "nbformat_minor": 4
}
